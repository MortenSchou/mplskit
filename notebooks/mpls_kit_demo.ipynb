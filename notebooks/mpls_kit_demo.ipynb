{
 "cells": [
  {
   "cell_type": "markdown",
   "metadata": {},
   "source": [
    "# MPLS-Kit Demonstration Notebook\n",
    "This notebook provides a functional example on the capabilities of the MPLS-Kit \n",
    "\n",
    "Demonstration NoteBook for MPLS Kit v0.1\n",
    "\n",
    "This program is free software: you can redistribute it and/or modify\n",
    "it under the terms of the GNU General Public License as published by\n",
    "the Free Software Foundation, either version 3 of the License, or\n",
    "(at your option) any later version.\n",
    "\n",
    "This program is distributed in the hope that it will be useful,\n",
    "but WITHOUT ANY WARRANTY; without even the implied warranty of\n",
    "MERCHANTABILITY or FITNESS FOR A PARTICULAR PURPOSE.  See the\n",
    "GNU General Public License for more details.\n",
    "\n",
    "You should have received a copy of the GNU General Public License\n",
    "along with this program.  If not, see <http://www.gnu.org/licenses/>.\n",
    "\n",
    "Copyright: Juan Vanerio (juan.vanerio@univie.ac.at)\n",
    "Created by Juan Vanerio, 2022"
   ]
  },
  {
   "cell_type": "code",
   "execution_count": 1,
   "metadata": {},
   "outputs": [
    {
     "data": {
      "text/html": [
       "<style>.container { width:85% !important; }</style>"
      ],
      "text/plain": [
       "<IPython.core.display.HTML object>"
      ]
     },
     "metadata": {},
     "output_type": "display_data"
    }
   ],
   "source": [
    "#Load requirements\n",
    "\n",
    "import networkx as nx\n",
    "import matplotlib.pyplot as plt\n",
    "import random\n",
    "import time\n",
    "import jsonschema\n",
    "import json\n",
    "import math \n",
    "from pprint import pprint\n",
    "from itertools import chain, count\n",
    "\n",
    "from networkx.algorithms.shortest_paths.weighted import _weight_function, _dijkstra_multisource\n",
    "from resource import getrusage, RUSAGE_SELF\n",
    "\n",
    "import sys\n",
    "sys.path.append('../')\n",
    "from mpls_fwd_gen import *\n",
    "from simulation import *\n",
    "\n",
    "from IPython.core.display import display, HTML\n",
    "display(HTML(\"<style>.container { width:85% !important; }</style>\"))"
   ]
  },
  {
   "cell_type": "markdown",
   "metadata": {},
   "source": [
    "##  Choose the topology\n",
    "In the next cell you can choose among three options to experiemnt with topologies: generate a random one, load one from an external file or simply define a custom topology in python."
   ]
  },
  {
   "cell_type": "code",
   "execution_count": 2,
   "metadata": {},
   "outputs": [
    {
     "name": "stdout",
     "output_type": "stream",
     "text": [
      "Number of edges: 18\n"
     ]
    }
   ],
   "source": [
    "# Topology configuration\n",
    "topology_option = \"random\"   # You can free from the following options: random, external, custom.\n",
    "\n",
    "#random_seed\n",
    "random_seed = 1\n",
    "\n",
    "# Get topology\n",
    "if topology_option == \"random\":\n",
    "    mode = \"random.log_degree\"   # custom, random.log_degree, random.large_degree\n",
    "    n = 10                     # number of nodes, for random only\n",
    "    weight_mode = \"random\"       # random or equal or distance\n",
    "    gen_method = 1               # method for generating the random topology\n",
    "    \n",
    "    G = generate_topology(mode, \n",
    "                      n, \n",
    "                      weight_mode = \"random\", \n",
    "                      gen_method = 1, \n",
    "                      visualize = False, \n",
    "                      display_tables = False, \n",
    "                      random_seed = random_seed \n",
    "                     )\n",
    "\n",
    "    \n",
    "elif topology_option == \"external\":   \n",
    "    G = topology_from_aalwines_json(\"example/abilene.json\", visualize = True)\n",
    "\n",
    "    \n",
    "elif topology_option == \"custom\":\n",
    "    G = nx.Graph()\n",
    "    G.add_edge(\"R7\", \"R0\", weight=1)\n",
    "    G.add_edge(\"R0\", \"R1\", weight=1)\n",
    "    G.add_edge(\"R0\", \"R2\", weight=1)\n",
    "    G.add_edge(\"R0\", \"R3\", weight=1)\n",
    "    G.add_edge(\"R3\", \"R2\", weight=1)\n",
    "    G.add_edge(\"R2\", \"R4\", weight=1)\n",
    "    G.add_edge(\"R4\", \"R1\", weight=1.5)\n",
    "    G.add_edge(\"R1\", \"R5\", weight=1)\n",
    "    G.add_edge(\"R4\", \"R6\", weight=1)\n",
    "    \n",
    "    \n",
    "n = G.number_of_nodes() \n",
    "visualize = True if n<60 else False     # Use only with small networks\n",
    "display_tables = False                  # Use only with small networks"
   ]
  },
  {
   "cell_type": "markdown",
   "metadata": {},
   "source": [
    "## Demo parameters\n",
    "In the next cell you Set parameter values for all MPLS protocols and features that you want deployed in the network."
   ]
  },
  {
   "cell_type": "code",
   "execution_count": 3,
   "metadata": {},
   "outputs": [],
   "source": [
    "# Generator configuration\n",
    "enable_PHP = False\n",
    "numeric_labels = False\n",
    "\n",
    "\n",
    "## LDP\n",
    "enable_LDP = False\n",
    "\n",
    "\n",
    "## RSVP\n",
    "enable_RSVP = True\n",
    "\n",
    "protection = \"facility-node\" # options: None, \"facility-node\"\n",
    "\n",
    "if topology_option == \"custom\":\n",
    "    num_lsps = [(\"R7\",\"R5\"),(\"R7\",\"R5\"),(\"R0\",\"R6\")]  # Explicit tunnels to create.\n",
    "else:\n",
    "    num_lsps = 10           # Maximum number of LSPS to compute at random for RSVP only\n",
    "\n",
    "tunnels_per_pair = 1    # no. of tunnels between same head / endtail with the exact same path\n",
    "\n",
    "\n",
    "## VPN Services\n",
    "enable_services = False\n",
    "num_services = 40\n",
    "PE_s_per_service = 3\n",
    "CEs_per_PE = 1"
   ]
  },
  {
   "cell_type": "markdown",
   "metadata": {},
   "source": [
    "## Generate MPLS forwarding rules"
   ]
  },
  {
   "cell_type": "code",
   "execution_count": 4,
   "metadata": {},
   "outputs": [
    {
     "name": "stdout",
     "output_type": "stream",
     "text": [
      "Computing RSVP...\n",
      "num_lsps: 10\n",
      "Tunnel_0: from R2 to R9\n",
      "Tunnel_1: from R1 to R4\n",
      "Tunnel_2: from R6 to R3\n",
      "Tunnel_3: from R0 to R6\n",
      "Tunnel_4: from R0 to R7\n",
      "Tunnel_5: from R3 to R9\n",
      "Tunnel_6: from R5 to R0\n",
      "Tunnel_7: from R8 to R0\n",
      "Tunnel_8: from R6 to R3\n",
      "Tunnel_9: from R0 to R8\n",
      "RSVP ready (frr variant=facility-node).\n",
      "building LFIB\n",
      "Now building order 100\n",
      "BUILD LFIB for router R4\n",
      "BUILD LFIB for router R5\n",
      "BUILD LFIB for router R3\n",
      "BUILD LFIB for router R7\n",
      "BUILD LFIB for router R0\n",
      "BUILD LFIB for router R6\n",
      "BUILD LFIB for router R9\n",
      "BUILD LFIB for router R8\n",
      "BUILD LFIB for router R2\n",
      "BUILD LFIB for router R1\n",
      "LFIB ready.\n",
      "adapting priorities.\n",
      "Refining LFIB\n",
      "Finished.\n"
     ]
    }
   ],
   "source": [
    "network = generate_fwd_rules(G, \n",
    "                             enable_PHP = enable_PHP, \n",
    "                             numeric_labels = numeric_labels, \n",
    "                             enable_LDP = enable_LDP, \n",
    "                             enable_RSVP = enable_RSVP,\n",
    "                               num_lsps = num_lsps, \n",
    "                               tunnels_per_pair = tunnels_per_pair,\n",
    "                             enable_services = enable_services, \n",
    "                               num_services = num_services, \n",
    "                               PE_s_per_service = PE_s_per_service, \n",
    "                               CEs_per_PE = CEs_per_PE,\n",
    "                              random_seed = random_seed,\n",
    "                             protection = protection\n",
    "                      )"
   ]
  },
  {
   "cell_type": "markdown",
   "metadata": {},
   "source": [
    "### Visualize the topology"
   ]
  },
  {
   "cell_type": "code",
   "execution_count": 5,
   "metadata": {},
   "outputs": [
    {
     "data": {
      "image/png": "[encoded data removed]",
      "text/plain": [
       "<Figure size 720x432 with 1 Axes>"
      ]
     },
     "metadata": {},
     "output_type": "display_data"
    }
   ],
   "source": [
    "if visualize:\n",
    "    plt.figure(3,figsize=(10,6)) \n",
    "      \n",
    "    pos=nx.spring_layout(G)\n",
    "    nx.draw(G, pos, with_labels = True, font_weight = 'bold')\n",
    "    labels = nx.get_edge_attributes(G,'weight')\n",
    "    nx.draw_networkx_edge_labels(G,pos,edge_labels=labels)\n",
    "    plt.show()\n",
    "\n",
    "if display_tables:\n",
    "    network.visualize()   "
   ]
  },
  {
   "cell_type": "markdown",
   "metadata": {},
   "source": [
    "### Visualize LIB and LFIB tables"
   ]
  },
  {
   "cell_type": "code",
   "execution_count": 6,
   "metadata": {},
   "outputs": [
    {
     "name": "stdout",
     "output_type": "stream",
     "text": [
      "Number of forwarding rules in the Network:56\n",
      "--------------------\n",
      "R0.LIB\n",
      "('R0', 'R6')(bypass_R0_R6): {'owner': <rsvpte.ProcRSVPTE object at 0x7fb2d8975fd0>, 'local_label': '16'}\n",
      "('R0', 'R7')(bypass_R0_R7): {'owner': <rsvpte.ProcRSVPTE object at 0x7fb2d8975fd0>, 'local_label': '17'}\n",
      "('R0', 'R8')(bypass_R0_R8): {'owner': <rsvpte.ProcRSVPTE object at 0x7fb2d8975fd0>, 'local_label': '18'}\n",
      "('R0', 'R1', 'R3')(bypass_R0_R1_R3): {'owner': <rsvpte.ProcRSVPTE object at 0x7fb2d8975fd0>, 'local_label': '19'}\n",
      "('R1', 'R3')(bypass_R1_R3): {'owner': <rsvpte.ProcRSVPTE object at 0x7fb2d8975fd0>, 'local_label': '20'}\n",
      "('R1', 'R3', 'R9')(bypass_R1_R3_R9): {'owner': <rsvpte.ProcRSVPTE object at 0x7fb2d8975fd0>, 'local_label': '21'}\n",
      "('R1', 'R0')(bypass_R1_R0): {'owner': <rsvpte.ProcRSVPTE object at 0x7fb2d8975fd0>, 'local_label': '22'}\n",
      "('R3', 'R4')(bypass_R3_R4): {'owner': <rsvpte.ProcRSVPTE object at 0x7fb2d8975fd0>, 'local_label': '23'}\n",
      "('R6', 'R0')(bypass_R6_R0): {'owner': <rsvpte.ProcRSVPTE object at 0x7fb2d8975fd0>, 'local_label': '24'}\n",
      "('R8', 'R0')(bypass_R8_R0): {'owner': <rsvpte.ProcRSVPTE object at 0x7fb2d8975fd0>, 'local_label': '25'}\n",
      "('R0', 'R6', 'facility-node')(lsp_from_R0_to_R6-1): {'owner': <rsvpte.ProcRSVPTE object at 0x7fb2d8975fd0>, 'local_label': '26'}\n",
      "('R0', 'R7', 'facility-node')(lsp_from_R0_to_R7-1): {'owner': <rsvpte.ProcRSVPTE object at 0x7fb2d8975fd0>, 'local_label': '27'}\n",
      "('R0', 'R8', 'facility-node')(lsp_from_R0_to_R8-1): {'owner': <rsvpte.ProcRSVPTE object at 0x7fb2d8975fd0>, 'local_label': '28'}\n",
      "('R2', 'R9', 'facility-node')(lsp_from_R2_to_R9-1): {'owner': <rsvpte.ProcRSVPTE object at 0x7fb2d8975fd0>, 'local_label': '29'}\n",
      "('R5', 'R0', 'facility-node')(lsp_from_R5_to_R0-1): {'owner': <rsvpte.ProcRSVPTE object at 0x7fb2d8975fd0>, 'local_label': '30'}\n",
      "('R6', 'R3', 'facility-node')(lsp_from_R6_to_R3-1): {'owner': <rsvpte.ProcRSVPTE object at 0x7fb2d8975fd0>, 'local_label': '31'}\n",
      "('R6', 'R3', 'facility-node')(lsp_from_R6_to_R3-2): {'owner': <rsvpte.ProcRSVPTE object at 0x7fb2d8975fd0>, 'local_label': '32'}\n",
      "('R8', 'R0', 'facility-node')(lsp_from_R8_to_R0-1): {'owner': <rsvpte.ProcRSVPTE object at 0x7fb2d8975fd0>, 'local_label': '33'}\n",
      "\n",
      "R0.LFIB\n",
      "20: [{'out': 'R7', 'ops': [{'swap': '18'}], 'priority': 0}]\n",
      "21: [{'out': 'R6', 'ops': [{'swap': '19'}], 'priority': 0}]\n",
      "22: [{'out': 'local_lookup', 'ops': [{'pop': ''}], 'priority': 0}]\n",
      "23: [{'out': 'R4', 'ops': [{'swap': '16'}], 'priority': 0}]\n",
      "24: [{'out': 'local_lookup', 'ops': [{'pop': ''}], 'priority': 0}]\n",
      "25: [{'out': 'local_lookup', 'ops': [{'pop': ''}], 'priority': 0}]\n",
      "26: [{'out': 'R6', 'ops': [{'swap': '20'}], 'priority': 0}, {'out': 'R1', 'ops': [{'swap': '20'}, {'push': '19'}], 'priority': 1}]\n",
      "27: [{'out': 'R7', 'ops': [{'swap': '21'}], 'priority': 0}, {'out': 'R1', 'ops': [{'swap': '21'}, {'push': '20'}], 'priority': 1}]\n",
      "28: [{'out': 'R8', 'ops': [{'swap': '18'}], 'priority': 0}, {'out': 'R6', 'ops': [{'swap': '18'}, {'push': '18'}], 'priority': 1}]\n",
      "29: [{'out': 'R1', 'ops': [{'swap': '25'}], 'priority': 0}, {'out': 'R7', 'ops': [{'swap': '23'}, {'push': '17'}], 'priority': 1}]\n",
      "30: [{'out': 'local_lookup', 'ops': [{'pop': ''}], 'priority': 0}]\n",
      "31: [{'out': 'R1', 'ops': [{'swap': '27'}], 'priority': 0}, {'out': 'R7', 'ops': [{'swap': '25'}, {'push': '17'}], 'priority': 1}]\n",
      "32: [{'out': 'R1', 'ops': [{'swap': '28'}], 'priority': 0}, {'out': 'R7', 'ops': [{'swap': '26'}, {'push': '17'}], 'priority': 1}]\n",
      "33: [{'out': 'local_lookup', 'ops': [{'pop': ''}], 'priority': 0}]\n",
      "--------------------\n"
     ]
    }
   ],
   "source": [
    "if topology_option in [\"custom\",\"random\"]:\n",
    "    router_list = [\"R0\"]\n",
    "    \n",
    "elif topology_option == \"external\":\n",
    "    router_list = [\"Houston\"]    # change as appropiate!\n",
    "\n",
    "network.visualize(router_list)"
   ]
  },
  {
   "cell_type": "markdown",
   "metadata": {},
   "source": [
    "### Inspect RSVP specific tables (if enabled)"
   ]
  },
  {
   "cell_type": "code",
   "execution_count": 7,
   "metadata": {},
   "outputs": [
    {
     "name": "stdout",
     "output_type": "stream",
     "text": [
      "{('R0', 'R1', 'R3'): {'FEC': <mpls_fwd_gen.oFEC object at 0x7fb2d89930a0>,\n",
      "                      'bypass_path': ['R0', 'R7', 'R3'],\n",
      "                      'next_hop': 'R7'},\n",
      " ('R0', 'R6'): {'FEC': <mpls_fwd_gen.oFEC object at 0x7fb2d8987520>,\n",
      "                'bypass_path': ['R0', 'R1', 'R3', 'R6'],\n",
      "                'next_hop': 'R1'},\n",
      " ('R0', 'R7'): {'FEC': <mpls_fwd_gen.oFEC object at 0x7fb2d8993280>,\n",
      "                'bypass_path': ['R0', 'R1', 'R7'],\n",
      "                'next_hop': 'R1'},\n",
      " ('R0', 'R8'): {'FEC': <mpls_fwd_gen.oFEC object at 0x7fb2d8993f40>,\n",
      "                'bypass_path': ['R0', 'R6', 'R8'],\n",
      "                'next_hop': 'R6'},\n",
      " ('R1', 'R0'): {'FEC': <mpls_fwd_gen.oFEC object at 0x7fb2d89931c0>,\n",
      "                'bypass_path': ['R1', 'R7', 'R0'],\n",
      "                'next_hop': None},\n",
      " ('R1', 'R3'): {'FEC': <mpls_fwd_gen.oFEC object at 0x7fb2d8987e50>,\n",
      "                'bypass_path': ['R1', 'R0', 'R7', 'R3'],\n",
      "                'next_hop': 'R7'},\n",
      " ('R1', 'R3', 'R9'): {'FEC': <mpls_fwd_gen.oFEC object at 0x7fb2d89872b0>,\n",
      "                      'bypass_path': ['R1', 'R0', 'R6', 'R9'],\n",
      "                      'next_hop': 'R6'},\n",
      " ('R3', 'R4'): {'FEC': <mpls_fwd_gen.oFEC object at 0x7fb2d898e880>,\n",
      "                'bypass_path': ['R3', 'R1', 'R0', 'R4'],\n",
      "                'next_hop': 'R4'},\n",
      " ('R6', 'R0'): {'FEC': <mpls_fwd_gen.oFEC object at 0x7fb2d8987580>,\n",
      "                'bypass_path': ['R6', 'R3', 'R1', 'R0'],\n",
      "                'next_hop': None},\n",
      " ('R8', 'R0'): {'FEC': <mpls_fwd_gen.oFEC object at 0x7fb2d8993fa0>,\n",
      "                'bypass_path': ['R8', 'R7', 'R0'],\n",
      "                'next_hop': None}}\n"
     ]
    }
   ],
   "source": [
    "r = router_list[0] # the first router from the previous cell\n",
    "\n",
    "if enable_RSVP:\n",
    "    #enable as desired to visualize different tables\n",
    "    # tabl = network.routers[r].clients[\"RSVP-TE\"].headended_lsps    # Tunnels starting at r\n",
    "    # tabl = network.routers[r].clients[\"RSVP-TE\"].requested_lsps    # Tunnels through r\n",
    "    tabl = network.routers[r].clients[\"RSVP-TE\"].requested_bypasses    # backup paths through r\n",
    "\n",
    "    pprint(tabl)\n",
    "    \n",
    "if enable_services:\n",
    "    tabl = network.routers[r].clients[\"service\"].services\n",
    "    pprint(tabl)\n"
   ]
  },
  {
   "cell_type": "markdown",
   "metadata": {},
   "source": [
    "# Simulation"
   ]
  },
  {
   "cell_type": "markdown",
   "metadata": {},
   "source": [
    "### Define failure scenario\n",
    "In the next cell, specify the desired failure scenario by stating explicitly the set of failed links F."
   ]
  },
  {
   "cell_type": "code",
   "execution_count": 8,
   "metadata": {},
   "outputs": [],
   "source": [
    "# Failed Scenarios\n",
    "F = []  # No failures\n",
    "\n",
    "# other examples:\n",
    "# F = [(\"R1\",\"R3\"),(\"R0\",\"R6\"),(\"R7\",\"R3\"),(\"R3\",\"R4\")]\n",
    "# F = [(\"R3\",\"R4\"),(\"R0\",\"R5\")]\n",
    "# F = [(\"R3\",\"R8\"),(\"R0\",\"R6\"),(\"R0\",\"R8\")]\n",
    "\n",
    "\n",
    "##########################################################################################\n",
    "# Compute the graph after removing the failed sets\n",
    "\n",
    "def filter_node(n):\n",
    "    #return False if n in L else True\n",
    "    return True\n",
    "\n",
    "def filter_edge(n1,n2):\n",
    "    if (n1,n2) in F or (n2,n1) in F:\n",
    "        return False\n",
    "    return True\n",
    "\n",
    "view = nx.subgraph_view(network.topology, filter_node = filter_node, filter_edge = filter_edge)\n"
   ]
  },
  {
   "cell_type": "markdown",
   "metadata": {},
   "source": [
    "## Packet tracer / Simulator"
   ]
  },
  {
   "cell_type": "code",
   "execution_count": 9,
   "metadata": {},
   "outputs": [
    {
     "name": "stdout",
     "output_type": "stream",
     "text": [
      "\n",
      "Current router: R0\n",
      "Current outmost label: 50515\n",
      " FORWARDING Complete: No available forwarding rules at router R0 for label 50515, yet MPLS stack is not empty\n"
     ]
    },
    {
     "data": {
      "text/plain": [
       "False"
      ]
     },
     "execution_count": 9,
     "metadata": {},
     "output_type": "execute_result"
    }
   ],
   "source": [
    "# Simulate the forwarding of a single packet\n",
    "\n",
    "# change as appropiate!\n",
    "if topology_option == \"custom\":\n",
    "    init_router = \"R0\"\n",
    "    init_stack = [\"50515\"]\n",
    "\n",
    "if topology_option == \"random\":\n",
    "    init_router = \"R0\"\n",
    "    init_stack = [\"50515\"]\n",
    "    \n",
    "elif topology_option == \"external\":\n",
    "    init_router = \"Houston\"    \n",
    "    init_stack = [\"50518\"]\n",
    "\n",
    "# instantiate\n",
    "p = MPLS_packet(network, restricted_topology = view, init_router = init_router, init_stack = init_stack, verbose = True)\n",
    "\n",
    "# send\n",
    "p.fwd()   # prints boolean forwarding result at the end."
   ]
  },
  {
   "cell_type": "markdown",
   "metadata": {},
   "source": [
    "## Run packets simulations for all realistic flows"
   ]
  },
  {
   "cell_type": "code",
   "execution_count": 10,
   "metadata": {},
   "outputs": [
    {
     "name": "stdout",
     "output_type": "stream",
     "text": [
      "running simulation with seed 0.7484350209183833\n",
      "Computing flows for simulation.\n"
     ]
    }
   ],
   "source": [
    "sim = Simulator(network, trace_mode=\"links\",  restricted_topology = view)\n",
    "sim.run()"
   ]
  },
  {
   "cell_type": "markdown",
   "metadata": {},
   "source": [
    "### Visualize traceroutes for all simulations."
   ]
  },
  {
   "cell_type": "code",
   "execution_count": 11,
   "metadata": {},
   "outputs": [
    {
     "name": "stdout",
     "output_type": "stream",
     "text": [
      "\n",
      "\n",
      "Traces:\n",
      "\"True;0;R0;26;[('R0', 'R6'), ('R6', None)];\"\n",
      "\"True;0;R0;27;[('R0', 'R7'), ('R7', None)];\"\n",
      "\"True;0;R0;28;[('R0', 'R8'), ('R8', None)];\"\n",
      "\"True;0;R1;24;[('R1', 'R3'), ('R3', 'R4'), ('R4', None)];\"\n",
      "(\"True;0;R2;16;[('R2', 'R0'), ('R0', 'R1'), ('R1', 'R3'), ('R3', 'R9'), ('R9', \"\n",
      " 'None)];')\n",
      "\"True;0;R3;24;[('R3', 'R9'), ('R9', None)];\"\n",
      "\"True;0;R5;17;[('R5', 'R1'), ('R1', 'R0'), ('R0', None)];\"\n",
      "\"True;0;R6;21;[('R6', 'R0'), ('R0', 'R1'), ('R1', 'R3'), ('R3', None)];\"\n",
      "\"True;0;R6;22;[('R6', 'R0'), ('R0', 'R1'), ('R1', 'R3'), ('R3', None)];\"\n",
      "\"True;0;R8;19;[('R8', 'R0'), ('R0', None)];\"\n"
     ]
    }
   ],
   "source": [
    "print(\"\\n\\nTraces:\")\n",
    "sim.print_traces()"
   ]
  },
  {
   "cell_type": "markdown",
   "metadata": {},
   "source": [
    "### Print results"
   ]
  },
  {
   "cell_type": "code",
   "execution_count": 12,
   "metadata": {},
   "outputs": [
    {
     "name": "stdout",
     "output_type": "stream",
     "text": [
      "Simulation run for 10 flows on failure set []\n",
      "The success percentage (number of successfully forwardes packet / number of simulations) is 100.0 %\n"
     ]
    }
   ],
   "source": [
    "success_ratio, total_flows = sim.success_rate()\n",
    "print(f\"\"\"Simulation run for {total_flows} flows on failure set {F}\"\"\")\n",
    "print(f\"The success percentage (number of successfully forwardes packet / number of simulations) is {success_ratio*100} %\")"
   ]
  }
 ],
 "metadata": {
  "kernelspec": {
   "display_name": "Python 3",
   "language": "python",
   "name": "python3"
  },
  "language_info": {
   "codemirror_mode": {
    "name": "ipython",
    "version": 3
   },
   "file_extension": ".py",
   "mimetype": "text/x-python",
   "name": "python",
   "nbconvert_exporter": "python",
   "pygments_lexer": "ipython3",
   "version": "3.8.3"
  }
 },
 "nbformat": 4,
 "nbformat_minor": 4
}
